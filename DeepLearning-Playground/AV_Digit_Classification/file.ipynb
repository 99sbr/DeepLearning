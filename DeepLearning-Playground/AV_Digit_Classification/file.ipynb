{
 "cells": [
  {
   "cell_type": "code",
   "execution_count": 77,
   "metadata": {
    "collapsed": false
   },
   "outputs": [],
   "source": [
    "import numpy as np\n",
    "from keras.models import Sequential\n",
    "from keras.layers import Dense\n",
    "from keras.layers import Dropout\n",
    "from keras.layers import Flatten\n",
    "from keras.layers.convolutional import Convolution2D\n",
    "from keras.layers.convolutional import MaxPooling2D\n",
    "from keras.layers import merge, Input\n",
    "from keras.utils import np_utils\n",
    "from keras.models import Model, Sequential\n",
    "from keras import backend as K\n",
    "K.set_image_dim_ordering('th')\n",
    "\n",
    "# fix random seed for reproducibility\n",
    "seed = 7\n",
    "np.random.seed(seed)"
   ]
  },
  {
   "cell_type": "code",
   "execution_count": 78,
   "metadata": {
    "collapsed": false
   },
   "outputs": [],
   "source": [
    "import pandas as pd\n",
    "root_dir=\"/home/delhivery\"\n",
    "rel_path=\"/Desktop/dataset\"\n",
    "train=pd.read_csv(root_dir+rel_path+\"/Train/train.csv\")\n",
    "test=pd.read_csv(root_dir+rel_path+\"/Test.csv\")"
   ]
  },
  {
   "cell_type": "code",
   "execution_count": 79,
   "metadata": {
    "collapsed": false
   },
   "outputs": [
    {
     "data": {
      "text/plain": [
       "(60000,)"
      ]
     },
     "execution_count": 79,
     "metadata": {},
     "output_type": "execute_result"
    }
   ],
   "source": [
    "from keras.datasets import mnist\n",
    "(X_train, y_train), (X_test, y_test) = mnist.load_data()\n",
    "y_train.shape"
   ]
  },
  {
   "cell_type": "code",
   "execution_count": 80,
   "metadata": {
    "collapsed": false
   },
   "outputs": [],
   "source": [
    "import scipy.misc\n",
    "import cv2\n",
    "train_size=30000\n",
    "test_size=19000\n",
    "X_train=np.zeros((train_size,28,28))\n",
    "y_train=np.zeros((train_size,1))\n",
    "X_test=np.zeros((test_size,28,28))\n",
    "y_test=np.zeros((test_size,1))"
   ]
  },
  {
   "cell_type": "code",
   "execution_count": 83,
   "metadata": {
    "collapsed": false
   },
   "outputs": [],
   "source": [
    "\n",
    "for image_index in range(train_size):\n",
    "    img=scipy.misc.imread(root_dir+rel_path+\"/Train/Images/train/\"+train.filename[image_index])\n",
    "    img = cv2.cvtColor( img, cv2.COLOR_RGB2GRAY )\n",
    "    X_train[image_index]=img\n",
    "    y_train[image_index]=train.label[image_index]\n",
    "\n",
    "for image_index in range(test_size):\n",
    "    img=scipy.misc.imread(root_dir+rel_path+\"/Train/Images/train/\"+train.filename[train_size+image_index])\n",
    "    img=cv2.cvtColor(img,cv2.COLOR_RGB2GRAY)\n",
    "    X_test[image_index]=img\n",
    "    y_test[image_index]=train.label[train_size+image_index] "
   ]
  },
  {
   "cell_type": "code",
   "execution_count": 113,
   "metadata": {
    "collapsed": false
   },
   "outputs": [],
   "source": [
    "test.shape\n",
    "from keras.models import load_model\n",
    "from keras.models import model_from_json\n",
    "\n",
    "model= load_model('my_model.h5')"
   ]
  },
  {
   "cell_type": "code",
   "execution_count": 114,
   "metadata": {
    "collapsed": false
   },
   "outputs": [],
   "source": [
    "img_test=np.zeros((21000,28,28))\n",
    "for i in range(len(test)):\n",
    "    img=scipy.misc.imread(root_dir+rel_path+\"/Train/Images/test/\"+test.filename[i])\n",
    "    img = cv2.cvtColor( img, cv2.COLOR_RGB2GRAY )\n",
    "    img_test[i]=img\n",
    "    "
   ]
  },
  {
   "cell_type": "code",
   "execution_count": 115,
   "metadata": {
    "collapsed": false
   },
   "outputs": [],
   "source": [
    "img_test = img_test.reshape(img_test.shape[0], 1, 28, 28).astype('float32')\n",
    "img_test=img_test / 255\n",
    "\n",
    "\n"
   ]
  },
  {
   "cell_type": "code",
   "execution_count": 118,
   "metadata": {
    "collapsed": true
   },
   "outputs": [],
   "source": [
    "json_string = model.to_json()\n",
    "model.save_weights('my_model_weights.h5')"
   ]
  },
  {
   "cell_type": "code",
   "execution_count": 119,
   "metadata": {
    "collapsed": false
   },
   "outputs": [
    {
     "name": "stdout",
     "output_type": "stream",
     "text": [
      "21000/21000 [==============================] - 180s   \n"
     ]
    }
   ],
   "source": [
    "preds = model.predict (img_test, verbose=1)\n"
   ]
  },
  {
   "cell_type": "code",
   "execution_count": null,
   "metadata": {
    "collapsed": true
   },
   "outputs": [],
   "source": []
  }
 ],
 "metadata": {
  "anaconda-cloud": {},
  "kernelspec": {
   "display_name": "Python [conda root]",
   "language": "python",
   "name": "conda-root-py"
  },
  "language_info": {
   "codemirror_mode": {
    "name": "ipython",
    "version": 3
   },
   "file_extension": ".py",
   "mimetype": "text/x-python",
   "name": "python",
   "nbconvert_exporter": "python",
   "pygments_lexer": "ipython3",
   "version": "3.5.2"
  }
 },
 "nbformat": 4,
 "nbformat_minor": 1
}
